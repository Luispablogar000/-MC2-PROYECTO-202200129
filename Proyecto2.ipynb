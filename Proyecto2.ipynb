{
 "cells": [
  {
   "cell_type": "code",
   "execution_count": 52,
   "metadata": {},
   "outputs": [],
   "source": [
    "import numpy as np\n",
    "import pandas as pd\n",
    "import matplotlib.pyplot as plt\n",
    "from collections import deque"
   ]
  },
  {
   "cell_type": "markdown",
   "metadata": {},
   "source": [
    "# Proyecto de Búsqueda en Árboles y Notación Polaca\n",
    "\n",
    "## Introducción\n",
    "\n",
    "En esta sección, puedes describir la introducción y los objetivos de tu proyecto. Puedes utilizar una celda de tipo Markdown para una presentación clara.\n",
    "\n",
    "## Objetivos\n",
    "\n",
    "1. Investigar y comprender en profundidad los algoritmos de búsqueda en árboles por ancho y por profundidad.\n",
    "2. Identificar las aplicaciones prácticas de estos algoritmos en las ciencias de la computación.\n",
    "3. Comparar y contrastar los algoritmos de búsqueda en términos de eficiencia y aplicabilidad.\n",
    "4. Recopilar opiniones de expertos sobre la utilidad y las limitaciones de estos algoritmos en contextos específicos.\n",
    "\n",
    "## Metodología\n",
    "\n",
    "1. **Revisión Bibliográfica:** Realiza una revisión exhaustiva de la literatura académica y técnica relacionada con los algoritmos de búsqueda en árboles por ancho y por profundidad. Utiliza celdas de código para demostrar ejemplos y explicaciones.\n",
    "\n",
    "2. **Implementación y Experimentación:** Desarrolla implementaciones de los algoritmos de búsqueda en árboles por ancho y por profundidad en celdas de código. Muestra ejemplos de su funcionamiento.\n",
    "\n",
    "3. **Entrevistas y Encuestas:** Describe las entrevistas con expertos y las encuestas realizadas en celdas de Markdown. Resume las opiniones recopiladas.\n",
    "\n",
    "4. **Análisis y Comparación:** Realiza un análisis detallado de los resultados en celdas de código y muestra gráficos o tablas para comparar los algoritmos.\n",
    "\n",
    "\n",
    "\n"
   ]
  },
  {
   "cell_type": "markdown",
   "metadata": {},
   "source": [
    "## Investigación de Algoritmos de Búsqueda en Árboles\n",
    "**Búsqueda en Árboles por Amplitud**\n",
    "**Descripción:** La búsqueda en árboles por amplitud es un algoritmo que explora todos los nodos en el mismo nivel antes de pasar al siguiente nivel. Funciona utilizando una estructura de cola para mantener un seguimiento de los nodos a visitar."
   ]
  },
  {
   "cell_type": "code",
   "execution_count": 53,
   "metadata": {},
   "outputs": [],
   "source": [
    "# Ejemplo de búsqueda en árboles por amplitud\n",
    "from collections import deque\n",
    "\n",
    "def busqueda_amplitud(arbol, objetivo):\n",
    "    cola = deque([arbol])\n",
    "    \n",
    "    while cola:\n",
    "        nodo = cola.popleft()\n",
    "        if nodo == objetivo:\n",
    "            return True\n",
    "        for hijo in obtener_hijos(nodo):\n",
    "            cola.append(hijo)\n",
    "    return "
   ]
  },
  {
   "cell_type": "code",
   "execution_count": 54,
   "metadata": {},
   "outputs": [
    {
     "data": {
      "text/plain": [
       "False"
      ]
     },
     "execution_count": 54,
     "metadata": {},
     "output_type": "execute_result"
    }
   ],
   "source": [
    "False"
   ]
  },
  {
   "cell_type": "markdown",
   "metadata": {},
   "source": [
    "## Búsqueda en Árboles por Profundidad\n",
    "**Descripción:** La búsqueda en árboles por profundidad explora un camino completo antes de retroceder. Utiliza una pila para rastrear los nodos.\n"
   ]
  },
  {
   "cell_type": "code",
   "execution_count": 55,
   "metadata": {},
   "outputs": [],
   "source": [
    "# Ejemplo de búsqueda en árboles por profundidad\n",
    "def busqueda_profundidad(arbol, objetivo):\n",
    "    pila = [arbol]\n"
   ]
  },
  {
   "cell_type": "markdown",
   "metadata": {},
   "source": [
    "## Aplicaciones en Ciencias de la Computación\n",
    "**Aplicación:** Los algoritmos de búsqueda en árboles son ampliamente utilizados en la resolución de problemas en la inteligencia artificial, como en el algoritmo A* para la búsqueda en grafos, la navegación de robots autónomos y la resolución de juegos como el ajedrez.\n",
    "Investigación de un Algoritmo para Árboles de Notación Polaca\n",
    "Algoritmo para Árboles de Notación Polaca\n",
    "\n",
    "**Descripción:** \n",
    "El algoritmo de construcción de árboles de expresiones en notación polaca toma una expresión matemática en notación polaca (por ejemplo, \"3 4 + 2 *\") y la convierte en un árbol de expresiones.\n",
    "\n",
    "**Implementación**\n",
    "\n",
    "A continuación, se proporciona una implementación de un árbol de expresiones en notación polaca:"
   ]
  },
  {
   "cell_type": "code",
   "execution_count": 56,
   "metadata": {},
   "outputs": [],
   "source": [
    "class Nodo:\n",
    "    def __init__(self, valor):\n",
    "        self.valor = valor\n",
    "        self.izquierdo = None\n",
    "        self.derecho = None\n",
    "\n",
    "def construir_arbol_notacion_polaca(expresion):\n",
    "    pila = []\n",
    "    tokens = expresion.split()\n",
    "    \n",
    "    for token in tokens:\n",
    "        if token.isnumeric():\n",
    "            nodo = Nodo(token)\n",
    "            pila.append(nodo)\n",
    "        else:\n",
    "            nodo_derecho = pila.pop()\n",
    "            nodo_izquierdo = pila.pop()\n",
    "            nodo = Nodo(token)\n",
    "            nodo.izquierdo = nodo_izquierdo\n",
    "            nodo.derecho = nodo_derecho\n",
    "            pila.append(nodo)\n",
    "    \n",
    "    return pila.pop()\n",
    "\n",
    "def imprimir_arbol(arbol):\n",
    "    if arbol is not None:\n",
    "        if arbol.izquierdo is not None or arbol.derecho is not None:\n",
    "            print(\"(\" + arbol.valor, end=\" \")\n",
    "            imprimir_arbol(arbol.izquierdo)\n",
    "            imprimir_arbol(arbol.derecho)\n",
    "            print(\")\", end=\" \")\n",
    "        else:\n",
    "            print(arbol.valor, end=\" \")"
   ]
  },
  {
   "cell_type": "markdown",
   "metadata": {},
   "source": [
    "## Ejecución con Tres Notaciones Polacas\n",
    "Ejemplo de ejecución con notaciones polacas diferentes:"
   ]
  },
  {
   "cell_type": "code",
   "execution_count": 57,
   "metadata": {},
   "outputs": [
    {
     "name": "stdout",
     "output_type": "stream",
     "text": [
      "Resultado del ejemplo 1: (* (+ 3 4 ) 2 ) \n",
      "Resultado del ejemplo 2: (- (+ 5 (* (+ 1 2 ) 4 ) ) 3 ) \n",
      "Resultado del ejemplo 3: (- 7 (* 5 3 ) ) "
     ]
    }
   ],
   "source": [
    "\n",
    "\n",
    "# Ejemplo 1: Notación Polaca Inversa (3 4 + 2 *)\n",
    "\n",
    "expresion_polaca1 = \"3 4 + 2 *\"\n",
    "\n",
    "arbol1 = construir_arbol_notacion_polaca(expresion_polaca1)\n",
    "print(\"Resultado del ejemplo 1:\", end=\" \")\n",
    "imprimir_arbol(arbol1)\n",
    "\n",
    "# Ejemplo 2: Notación Polaca (5 1 2 + 4 * + 3 -)\n",
    "\n",
    "expresion_polaca2 = \"5 1 2 + 4 * + 3 -\"\n",
    "\n",
    "arbol2 = construir_arbol_notacion_polaca(expresion_polaca2)\n",
    "print(\"\\nResultado del ejemplo 2:\", end=\" \")\n",
    "imprimir_arbol(arbol2)\n",
    "\n",
    "# Ejemplo 3: Notación Polaca (7 2 3 * -)\n",
    "\n",
    "expresion_polaca3 = \"7 5 3 * -\"\n",
    "\n",
    "arbol3 = construir_arbol_notacion_polaca(expresion_polaca3)\n",
    "print(\"\\nResultado del ejemplo 3:\", end=\" \")\n",
    "imprimir_arbol(arbol3)"
   ]
  },
  {
   "cell_type": "markdown",
   "metadata": {},
   "source": [
    "## Conclusiones\n",
    "\n",
    "1. Los algoritmos de búsqueda en árboles por amplitud y por profundidad son fundamentales en la resolución de problemas en ciencias de la computación.\n",
    "\n",
    "2. La elección entre búsqueda por amplitud y por profundidad depende de la naturaleza del problema y de los recursos disponibles.\n",
    "\n",
    "3. Las aplicaciones de estos algoritmos son variadas, desde la navegación en la web hasta la resolución de rompecabezas.\n",
    "\n",
    "4. La notación polaca es una forma eficiente de representar expresiones matemáticas, y su evaluación se puede lograr con un algoritmo simple.\n",
    "\n",
    "5. La investigación y experimentación en este proyecto proporcionaron una comprensión más profunda de los algoritmos y sus aplicaciones.\n"
   ]
  }
 ],
 "metadata": {
  "kernelspec": {
   "display_name": "Python 3",
   "language": "python",
   "name": "python3"
  },
  "language_info": {
   "codemirror_mode": {
    "name": "ipython",
    "version": 3
   },
   "file_extension": ".py",
   "mimetype": "text/x-python",
   "name": "python",
   "nbconvert_exporter": "python",
   "pygments_lexer": "ipython3",
   "version": "3.11.6"
  }
 },
 "nbformat": 4,
 "nbformat_minor": 2
}
